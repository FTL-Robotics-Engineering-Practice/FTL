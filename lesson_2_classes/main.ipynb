{
 "cells": [
  {
   "cell_type": "code",
   "execution_count": 2,
   "id": "ca8e220f",
   "metadata": {},
   "outputs": [
    {
     "name": "stdout",
     "output_type": "stream",
     "text": [
      "hello\n"
     ]
    }
   ],
   "source": [
    "print('hello')"
   ]
  },
  {
   "cell_type": "code",
   "execution_count": 1,
   "id": "ebdef493",
   "metadata": {},
   "outputs": [
    {
     "name": "stdout",
     "output_type": "stream",
     "text": [
      "Привет, мир роботов!\n",
      "___ВАШЕ_СООБЩЕНИЕ___\n",
      "Имя робота: R2D2\n",
      "Возраст робота: 50 лет\n"
     ]
    },
    {
     "ename": "NameError",
     "evalue": "name '___ВОЗРАСТ___' is not defined",
     "output_type": "error",
     "traceback": [
      "\u001b[1;31m---------------------------------------------------------------------------\u001b[0m",
      "\u001b[1;31mNameError\u001b[0m                                 Traceback (most recent call last)",
      "Cell \u001b[1;32mIn[1], line 22\u001b[0m\n\u001b[0;32m     20\u001b[0m \u001b[38;5;66;03m# TODO: Создайте своего робота с именем и возрастом\u001b[39;00m\n\u001b[0;32m     21\u001b[0m my_robot_name \u001b[38;5;241m=\u001b[39m \u001b[38;5;124m\"\u001b[39m\u001b[38;5;124m___ВАШЕ_ИМЯ_РОБОТА___\u001b[39m\u001b[38;5;124m\"\u001b[39m\n\u001b[1;32m---> 22\u001b[0m my_robot_age \u001b[38;5;241m=\u001b[39m \u001b[43m___ВОЗРАСТ___\u001b[49m\n\u001b[0;32m     24\u001b[0m \u001b[38;5;28mprint\u001b[39m(\u001b[38;5;124m\"\u001b[39m\u001b[38;5;124mМой робот:\u001b[39m\u001b[38;5;124m\"\u001b[39m, my_robot_name)\n\u001b[0;32m     25\u001b[0m \u001b[38;5;28mprint\u001b[39m(\u001b[38;5;124m\"\u001b[39m\u001b[38;5;124mЕго возраст:\u001b[39m\u001b[38;5;124m\"\u001b[39m, my_robot_age)\n",
      "\u001b[1;31mNameError\u001b[0m: name '___ВОЗРАСТ___' is not defined"
     ]
    }
   ],
   "source": [
    "# Блок 1.1: Знакомство с Python\n",
    "# Сегодня мы создадим наших первых роботов!\n",
    "\n",
    "# Это комментарий - компьютер его игнорирует, а люди читают\n",
    "\n",
    "# Давайте начнем с простого: научим компьютер \"говорить\"\n",
    "print(\"Привет, мир роботов!\")\n",
    "\n",
    "# TODO: Напишите свое приветствие роботам\n",
    "print(\"___ВАШЕ_СООБЩЕНИЕ___\")\n",
    "\n",
    "# Переменные - это \"ящики\" для хранения информации\n",
    "robot_name = \"R2D2\"\n",
    "robot_age = 50\n",
    "\n",
    "# Выводим информацию о роботе\n",
    "print(\"Имя робота:\", robot_name)\n",
    "print(\"Возраст робота:\", robot_age, \"лет\")\n",
    "\n",
    "# TODO: Создайте своего робота с именем и возрастом\n",
    "my_robot_name = \"___ВАШЕ_ИМЯ_РОБОТА___\"\n",
    "my_robot_age = ___ВОЗРАСТ___\n",
    "\n",
    "print(\"Мой робот:\", my_robot_name)\n",
    "print(\"Его возраст:\", my_robot_age)\n",
    "\n",
    "# Роботы умеют считать!\n",
    "battery_level = 100\n",
    "battery_level = battery_level - 10  # робот поработал\n",
    "print(\"Заряд батареи:\", battery_level, \"%\")\n",
    "\n",
    "# TODO: Уменьшите заряд еще на 25% и выведите результат\n",
    "battery_level = battery_level - ___\n",
    "print(\"Заряд после работы:\", battery_level, \"%\")"
   ]
  },
  {
   "cell_type": "code",
   "execution_count": null,
   "id": "e0302596",
   "metadata": {},
   "outputs": [
    {
     "name": "stdout",
     "output_type": "stream",
     "text": [
      "🤖 Робот Вася начинает в точке (0, 0)\n",
      "\n",
      "🔵 Идем вправо:\n",
      "Шаг 1: Вася в (1, 0)\n",
      "Шаг 2: Вася в (, 0)\n",
      "Шаг 3: Вася в (, 0)\n",
      "\n",
      "🔵 Идем вверх:\n",
      "Шаг 1: Вася в (, )\n",
      "Шаг 2: Вася в (, )\n",
      "Шаг 3: Вася в (, )\n",
      "\n",
      "🔵 Идем влево:\n",
      "\n",
      "🔵 Идем вниз:\n",
      "\n",
      "🏁 Квадрат готов! Вася вернулся в (, )\n",
      "❌ Упс! Робот заблудился...\n"
     ]
    },
    {
     "ename": "",
     "evalue": "",
     "output_type": "error",
     "traceback": [
      "\u001b[1;31mThe Kernel crashed while executing code in the current cell or a previous cell. \n",
      "\u001b[1;31mPlease review the code in the cell(s) to identify a possible cause of the failure. \n",
      "\u001b[1;31mClick <a href='https://aka.ms/vscodeJupyterKernelCrash'>here</a> for more info. \n",
      "\u001b[1;31mView Jupyter <a href='command:jupyter.viewOutput'>log</a> for further details."
     ]
    }
   ],
   "source": [
    "# Блок 1.2: Создаем робота через переменные\n",
    "# Задача: робот рисует квадрат 3x3\n",
    "\n",
    "# Создаем робота\n",
    "robot_name = \"Вася\"\n",
    "robot_x = 0  # начальная позиция по горизонтали\n",
    "robot_y = 0  # начальная позиция по вертикали\n",
    "\n",
    "print(f\"🤖 Робот {robot_name} начинает в точке ({robot_x}, {robot_y})\")\n",
    "\n",
    "# Движение вправо (3 шага)\n",
    "print(\"\\n🔵 Идем вправо:\")\n",
    "# Шаг 1 вправо\n",
    "robot_x = robot_x + 1\n",
    "print(f\"Шаг 1: {robot_name} в ({robot_x}, {robot_y})\")\n",
    "\n",
    "# TODO: Добавьте еще 2 шага вправо\n",
    "# Шаг 2 вправо\n",
    "robot_x = ___\n",
    "print(f\"Шаг 2: {robot_name} в ({robot_x}, {robot_y})\")\n",
    "\n",
    "# Шаг 3 вправо  \n",
    "robot_x = ___\n",
    "print(f\"Шаг 3: {robot_name} в ({robot_x}, {robot_y})\")\n",
    "\n",
    "# Движение вверх (3 шага)\n",
    "print(\"\\n🔵 Идем вверх:\")\n",
    "# TODO: Сделайте 3 шага вверх, выводя позицию после каждого\n",
    "# Шаг 1 вверх\n",
    "robot_y = ___\n",
    "print(f\"Шаг 1: {robot_name} в ({robot_x}, {robot_y})\")\n",
    "\n",
    "# Шаг 2 вверх\n",
    "robot_y = ___\n",
    "print(f\"Шаг 2: {robot_name} в ({robot_x}, {robot_y})\")\n",
    "\n",
    "# Шаг 3 вверх\n",
    "robot_y = ___\n",
    "print(f\"Шаг 3: {robot_name} в ({robot_x}, {robot_y})\")\n",
    "\n",
    "# Движение влево (3 шага)\n",
    "print(\"\\n🔵 Идем влево:\")\n",
    "# TODO: Сделайте 3 шага влево\n",
    "# Подсказка: влево = уменьшать X\n",
    "\n",
    "\n",
    "# Движение вниз (3 шага)  \n",
    "print(\"\\n🔵 Идем вниз:\")\n",
    "# TODO: Сделайте 3 шага вниз и вернитесь в точку (0, 0)\n",
    "# Подсказка: вниз = уменьшать Y\n",
    "\n",
    "\n",
    "print(f\"\\n🏁 Квадрат готов! {robot_name} вернулся в ({robot_x}, {robot_y})\")\n",
    "\n",
    "# Проверка: робот должен вернуться в (0, 0)\n",
    "if robot_x == 0 and robot_y == 0:\n",
    "    print(\"✅ Отлично! Робот вернулся домой!\")\n",
    "else:\n",
    "    print(\"❌ Упс! Робот заблудился...\")"
   ]
  },
  {
   "cell_type": "code",
   "execution_count": null,
   "id": "0355beb7",
   "metadata": {},
   "outputs": [],
   "source": []
  }
 ],
 "metadata": {
  "kernelspec": {
   "display_name": "Python 3",
   "language": "python",
   "name": "python3"
  },
  "language_info": {
   "codemirror_mode": {
    "name": "ipython",
    "version": 3
   },
   "file_extension": ".py",
   "mimetype": "text/x-python",
   "name": "python",
   "nbconvert_exporter": "python",
   "pygments_lexer": "ipython3",
   "version": "3.12.10"
  }
 },
 "nbformat": 4,
 "nbformat_minor": 5
}
