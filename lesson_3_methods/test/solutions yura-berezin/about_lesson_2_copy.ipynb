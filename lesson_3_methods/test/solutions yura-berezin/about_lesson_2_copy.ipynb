"class Robot:
"    def __init__(self, name, x=0, y=0):
"        self.name = name
"        self.x = x
"        self.y = y
"        self.history = [(x, y)]  # сохраняем стартовую позицию
"
"    def command(self, cmd):
"        """Выполняет команду: 'up', 'down', 'left', 'right'"""
"        if cmd == "up":
"            self.y += 1
"        elif cmd == "down":
"            self.y -= 1
"        elif cmd == "left":
"            self.x -= 1
"        elif cmd == "right":
"            self.x += 1
"        else:
"            print(f"Неизвестная команда: {cmd}")
"            return
"        self.history.append((self.x, self.y))  # фиксируем новую позицию
"
"    def show_history(self):
"        """Показывает всю историю движения"""
"        print("История шагов:")
"        for step in self.history:
"            print(step)
"            
"print("🧪 ТЕСТ 1.1: История состояний")
"robot = Robot("Тест", 0, 0)
"robot.command("right")
"robot.command("right") 
"robot.command("up")
"robot.show_history()
"
"# Автоматическая проверка результата:
"expected_history = [(0,0), (1,0), (2,0), (2,1)]
"if robot.history == expected_history:
"    print("✅ ТЕСТ ПРОЙДЕН: История корректна")
"else:
"    print(f"❌ ТЕСТ НЕ ПРОЙДЕН: Ожидалось {expected_history}, получено {robot.history}")





















import matplotlib.pyplot as plt

def plot_robot_path(robot):
    """Рисует график пути робота"""
    if not robot.history:
        print("История пуста!")
        return

    x_coords = [pos[0] for pos in robot.history]
    y_coords = [pos[1] for pos in robot.history]

    plt.figure(figsize=(8, 6))
    plt.plot(x_coords, y_coords, 'b-o')
    plt.title(f"Путь робота {robot.name}")
    plt.grid(True)
    plt.xlabel("X координата")
    plt.ylabel("Y координата")
    plt.show()


