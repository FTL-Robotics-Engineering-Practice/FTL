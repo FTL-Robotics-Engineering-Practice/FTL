import pygame
pygame.init()



font = pygame.font.Font(filename=None, size=24)

running = True
while running:
    for event in pygame.event.get():
        if event.type == pygame.QUIT:
            running = False
        if event.type == pygame.KEYDOWN:
            if event.key == pygame.K_r:
                r_x = 0
                r_y = 0
                r_dir = 0 
                r_color = BLACK
    screen.fill(WHITE)
pygame.quit()

import pygame
import math

pygame.init()

# TODO: Создайте окно 800x600
WIDTH = 800
HEIGHT = 600
screen = pygame.display.set_mode(size=(WIDTH, HEIGHT))

# TODO: Создайте часы для контроля FPS
clock = pygame.time.Clock()
clock.tick(framerate=60)

# TODO: Определите цвета (WHITE, BLACK, BLUE)
WHITE = (255, 255, 255)  # Все компоненты максимальны
BLACK = (0, 0, 0)        # Все компоненты = 0
RED = (255, 0, 0)        # Только красный
GREEN = (0, 255, 0)      # Только зелёный
BLUE = (0, 0, 255)       # Только синий
GRAY = (128, 128, 128)   # Все компоненты одинаковы
# TODO: Создайте шрифт размером 24
font = pygame.font.Font(filename=None, size=24)
# TODO: Переменные робота (математические координаты)
r_x = 0
r_y = 0
r_dir = 0  # градусы, 0 = вправо

def draw_robot(screen, x, y, direction, radius):
    """Рисует робота с направлением"""
    # TODO: Преобразуйте математические координаты в экранные
    s_x = int(x + WIDTH/2)
    s_y = int(HEIGHT/2 - y)
    
    # TODO: Нарисуйте круг (тело робота)
    pygame.draw.circle(screen, color=RED, center=(s_x,s_y), radius=20)
    
    # TODO: Вычислите координаты треугольника для направления
    angle_rad = math.radians(direction)
    
    # Вершина треугольника (впереди)
    tip_x = ___  # используйте screen_x, radius, cos(angle_rad)
    tip_y = ___  # используйте screen_y, radius, sin(angle_rad)
    
    # Задние углы треугольника (левый и правый)
    # Подсказка: используйте углы (angle_rad + 2.5) и (angle_rad - 2.5)
    left_x = ___
    left_y = ___
    
    right_x = ___
    right_y = ___
    
    # TODO: Нарисуйте треугольник
    pygame.draw.polygon(surface=___, color=___, points=___)
    
    # TODO: Нарисуйте контур круга (толщина 2)
    pygame.draw.circle(surface=___, color=___, center=___, radius=___, width=___)

# Игровой цикл
running = True
while running:
    # TODO: Обработка событий
    for event in pygame.event.get():
        if event.type == pygame.QUIT:
            running = False
    
    # TODO: Залить экран белым
    screen.fill(___)
    
    # TODO: Нарисовать робота
    draw_robot(screen=___, x=___, y=___, direction=___, radius=___)
    
    # Обновление экрана
    pygame.display.flip()
    
    # TODO: Ограничение FPS до 60
    clock.tick(___)

pygame.quit()